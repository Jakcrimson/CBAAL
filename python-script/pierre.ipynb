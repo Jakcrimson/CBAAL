{
 "cells": [
  {
   "cell_type": "code",
   "execution_count": 1,
   "metadata": {},
   "outputs": [],
   "source": [
    "import tkinter as tk\n",
    "from CBAA_agent import *"
   ]
  },
  {
   "cell_type": "code",
   "execution_count": 2,
   "metadata": {},
   "outputs": [],
   "source": [
    "canvas_size = 600\n",
    "agent = True\n",
    "position = {\n",
    "    \"agent\": [],\n",
    "    \"tache\": []\n",
    "}"
   ]
  },
  {
   "cell_type": "code",
   "execution_count": 3,
   "metadata": {},
   "outputs": [],
   "source": [
    "def place_things(event, canvas):\n",
    "    global agent, position\n",
    "    if agent:\n",
    "        canvas.create_rectangle(\n",
    "            event.x-5, event.y-5, \n",
    "            event.x+5, event.y+5, fill=\"black\"\n",
    "        )\n",
    "        position[\"agent\"].append([event.x, event.y])\n",
    "    else:\n",
    "        canvas.create_rectangle(\n",
    "            event.x-5, event.y-5, \n",
    "            event.x+5, event.y+5, fill=\"red\"\n",
    "        )\n",
    "        position[\"tache\"].append([event.x, event.y])\n",
    "    print(position)\n",
    "    canvas.update()\n",
    "    canvas.pack()"
   ]
  },
  {
   "cell_type": "code",
   "execution_count": 4,
   "metadata": {},
   "outputs": [],
   "source": [
    "def key_press_agent(e):\n",
    "    global agent\n",
    "    agent = True\n",
    "\n",
    "def key_press_tache(e):\n",
    "    global agent\n",
    "    agent = False"
   ]
  },
  {
   "cell_type": "code",
   "execution_count": 5,
   "metadata": {},
   "outputs": [],
   "source": [
    "def cbaa(canvas):\n",
    "    global position\n",
    "    print(\"CBAA\")\n",
    "    \n",
    "    agent_list = [CBAA_agent(position[\"agent\"][i], i, position[\"tache\"]) for i in range(position[\"agent\"])]\n",
    "    task = position[\"tache\"]\n",
    "    agent_num = len(position[\"agent\"])\n",
    "    G = np.ones((agent_num, agent_num)) # Fully connected network               \n",
    "    t = 0 # Iteration number \n",
    "    assign_plots = []\n",
    "    max_t = 100     \n",
    "\n",
    "    while True:\n",
    "        converged_list = []\n",
    "\n",
    "\n",
    "        #Phase 1 : Auction process\n",
    "        for agent in agent_list:\n",
    "            agent.select_task()\n",
    "\n",
    "            #Plot Auction process\n",
    "            if t == 0:\n",
    "                assign_line, = ax.plot([agent.position[0][0],task[agent.J,0]],[agent.position[0][1],task[agent.J,1]],'k-',linewidth=1)\n",
    "                assign_plots.append(assign_line)\n",
    "            else:\n",
    "                assign_plots[agent_id].set_data([agent.position[0][0],task[agent.J,0]],[agent.position[0][1],task[agent.J,1]])\n",
    "\n",
    "\n",
    "        print(\"\\t Phase 2 : Consensus\")\n",
    "        #send the winning bid list to neighbors\n",
    "        neighboring_msg = [agent.send_message_in_neighborhood() for agent in agent_list]\n",
    "\n",
    "        for agent_id, agent in enumerate(agent_list):\n",
    "            g = G[agent_id]\n",
    "\n",
    "            #find connected agents by the network\n",
    "            connected, = np.where(g==1)\n",
    "            connected = list(connected)\n",
    "            connected.remove(agent_id)\n",
    "\n",
    "            if len(connected)>0:\n",
    "                Y = {neighbor_id:neighboring_msg[neighbor_id] for neighbor_id in connected}\n",
    "            else:\n",
    "                Y = None\n",
    "\n",
    "            #update the local information and task allocation\n",
    "            if Y is not None:\n",
    "                converged = agent.update_task(Y)\n",
    "                converged_list.append(converged)\n",
    "\n",
    "            #Plot the consensus process\n",
    "            if any(agent.xj):\n",
    "                assign_plots[agent_id].set_data([agent.position[0][0],task[agent.J,0]],[agent.position[0][1],task[agent.J,1]])\n",
    "            else:\n",
    "                assign_plots[agent_id].set_data([agent.position[0][0],agent.position[0][0]],[agent.position[0][1],agent.position[0][1]])\n",
    "\n",
    "        t+=1\n",
    "        #next iteration\n",
    "\n",
    "        if sum(converged_list) == agent_num:\n",
    "            break\n",
    "        if t>max_t:\n",
    "            break\n",
    "def cbba():\n",
    "    print(\"CBBA\")\n",
    "\n",
    "def clear_canvas(canvas):\n",
    "    global position\n",
    "    canvas.delete(\"all\")\n",
    "    position = {\n",
    "        \"agent\": [],\n",
    "        \"tache\": []\n",
    "    }"
   ]
  },
  {
   "cell_type": "code",
   "execution_count": 6,
   "metadata": {},
   "outputs": [],
   "source": [
    "window = tk.Tk()\n",
    "\n",
    "window.bind_all(\"<a>\", key_press_agent)\n",
    "window.bind_all(\"<t>\", key_press_tache)\n",
    "\n",
    "   \n",
    "canvas = tk.Canvas(window, height=canvas_size, width=canvas_size, background=\"white\")\n",
    "\n",
    "canvas.bind(\"<Button-1>\", lambda event: place_things(event, canvas))\n",
    "canvas.pack()\n",
    "but1 = tk.Button(window, text=\"CBAA\", command=lambda: cbaa(canvas))\n",
    "but2 = tk.Button(window, text=\"CBBA\", command=cbba)\n",
    "clear_but = tk.Button(window, text=\"Clear canvas\", command=lambda: clear_canvas(canvas))\n",
    "but1.pack()\n",
    "but2.pack()\n",
    "clear_but.pack()"
   ]
  },
  {
   "cell_type": "code",
   "execution_count": 7,
   "metadata": {},
   "outputs": [
    {
     "name": "stdout",
     "output_type": "stream",
     "text": [
      "{'agent': [[227, 167]], 'tache': []}\n",
      "{'agent': [[227, 167], [423, 341]], 'tache': []}\n",
      "{'agent': [[227, 167], [423, 341], [176, 404]], 'tache': []}\n",
      "{'agent': [[227, 167], [423, 341], [176, 404], [410, 137]], 'tache': []}\n",
      "{'agent': [[227, 167], [423, 341], [176, 404], [410, 137]], 'tache': [[117, 239]]}\n",
      "{'agent': [[227, 167], [423, 341], [176, 404], [410, 137]], 'tache': [[117, 239], [102, 108]]}\n",
      "{'agent': [[227, 167], [423, 341], [176, 404], [410, 137]], 'tache': [[117, 239], [102, 108], [327, 336]]}\n",
      "{'agent': [[227, 167], [423, 341], [176, 404], [410, 137]], 'tache': [[117, 239], [102, 108], [327, 336], [305, 112]]}\n",
      "{'agent': [[227, 167], [423, 341], [176, 404], [410, 137]], 'tache': [[117, 239], [102, 108], [327, 336], [305, 112], [525, 419]]}\n",
      "{'agent': [[227, 167], [423, 341], [176, 404], [410, 137]], 'tache': [[117, 239], [102, 108], [327, 336], [305, 112], [525, 419], [247, 554]]}\n",
      "{'agent': [[227, 167], [423, 341], [176, 404], [410, 137]], 'tache': [[117, 239], [102, 108], [327, 336], [305, 112], [525, 419], [247, 554], [74, 534]]}\n",
      "{'agent': [[227, 167], [423, 341], [176, 404], [410, 137]], 'tache': [[117, 239], [102, 108], [327, 336], [305, 112], [525, 419], [247, 554], [74, 534], [58, 370]]}\n",
      "CBAA\n"
     ]
    },
    {
     "name": "stderr",
     "output_type": "stream",
     "text": [
      "Exception in Tkinter callback\n",
      "Traceback (most recent call last):\n",
      "  File \"c:\\Users\\pierr\\AppData\\Local\\Programs\\Python\\Python312\\Lib\\tkinter\\__init__.py\", line 1948, in __call__\n",
      "    return self.func(*args)\n",
      "           ^^^^^^^^^^^^^^^^\n",
      "  File \"C:\\Users\\pierr\\AppData\\Local\\Temp\\ipykernel_20588\\953717072.py\", line 11, in <lambda>\n",
      "    but1 = tk.Button(window, text=\"CBAA\", command=lambda: cbaa(canvas))\n",
      "                                                          ^^^^^^^^^^^^\n",
      "  File \"C:\\Users\\pierr\\AppData\\Local\\Temp\\ipykernel_20588\\1195374278.py\", line 5, in cbaa\n",
      "    agent_list = [CBAA_agent(position[\"agent\"][i], i, position[\"tache\"]) for i in range(position[\"agent\"])]\n",
      "                                                                                  ^^^^^^^^^^^^^^^^^^^^^^^^\n",
      "TypeError: 'list' object cannot be interpreted as an integer\n"
     ]
    },
    {
     "name": "stdout",
     "output_type": "stream",
     "text": [
      "CBBA\n",
      "CBAA\n"
     ]
    },
    {
     "name": "stderr",
     "output_type": "stream",
     "text": [
      "Exception in Tkinter callback\n",
      "Traceback (most recent call last):\n",
      "  File \"c:\\Users\\pierr\\AppData\\Local\\Programs\\Python\\Python312\\Lib\\tkinter\\__init__.py\", line 1948, in __call__\n",
      "    return self.func(*args)\n",
      "           ^^^^^^^^^^^^^^^^\n",
      "  File \"C:\\Users\\pierr\\AppData\\Local\\Temp\\ipykernel_20588\\953717072.py\", line 11, in <lambda>\n",
      "    but1 = tk.Button(window, text=\"CBAA\", command=lambda: cbaa(canvas))\n",
      "                                                          ^^^^^^^^^^^^\n",
      "  File \"C:\\Users\\pierr\\AppData\\Local\\Temp\\ipykernel_20588\\1195374278.py\", line 5, in cbaa\n",
      "    agent_list = [CBAA_agent(position[\"agent\"][i], i, position[\"tache\"]) for i in range(position[\"agent\"])]\n",
      "                                                                                  ^^^^^^^^^^^^^^^^^^^^^^^^\n",
      "TypeError: 'list' object cannot be interpreted as an integer\n"
     ]
    },
    {
     "name": "stdout",
     "output_type": "stream",
     "text": [
      "{'agent': [], 'tache': [[138, 116]]}\n",
      "{'agent': [[349, 255]], 'tache': [[138, 116]]}\n",
      "{'agent': [[349, 255], [296, 419]], 'tache': [[138, 116]]}\n",
      "{'agent': [[349, 255], [296, 419], [86, 446]], 'tache': [[138, 116]]}\n",
      "{'agent': [[349, 255], [296, 419], [86, 446], [169, 554]], 'tache': [[138, 116]]}\n",
      "{'agent': [[349, 255], [296, 419], [86, 446], [169, 554], [486, 535]], 'tache': [[138, 116]]}\n",
      "{'agent': [[349, 255], [296, 419], [86, 446], [169, 554], [486, 535], [456, 110]], 'tache': [[138, 116]]}\n",
      "{'agent': [[349, 255], [296, 419], [86, 446], [169, 554], [486, 535], [456, 110], [271, 109]], 'tache': [[138, 116]]}\n",
      "{'agent': [[349, 255], [296, 419], [86, 446], [169, 554], [486, 535], [456, 110], [271, 109], [234, 309]], 'tache': [[138, 116]]}\n",
      "{'agent': [[349, 255], [296, 419], [86, 446], [169, 554], [486, 535], [456, 110], [271, 109], [234, 309], [467, 369]], 'tache': [[138, 116]]}\n",
      "{'agent': [[349, 255], [296, 419], [86, 446], [169, 554], [486, 535], [456, 110], [271, 109], [234, 309], [467, 369], [386, 537]], 'tache': [[138, 116]]}\n",
      "{'agent': [[349, 255], [296, 419], [86, 446], [169, 554], [486, 535], [456, 110], [271, 109], [234, 309], [467, 369], [386, 537]], 'tache': [[138, 116], [284, 528]]}\n",
      "{'agent': [[349, 255], [296, 419], [86, 446], [169, 554], [486, 535], [456, 110], [271, 109], [234, 309], [467, 369], [386, 537]], 'tache': [[138, 116], [284, 528], [475, 253]]}\n",
      "{'agent': [[349, 255], [296, 419], [86, 446], [169, 554], [486, 535], [456, 110], [271, 109], [234, 309], [467, 369], [386, 537]], 'tache': [[138, 116], [284, 528], [475, 253], [72, 271]]}\n",
      "{'agent': [[349, 255], [296, 419], [86, 446], [169, 554], [486, 535], [456, 110], [271, 109], [234, 309], [467, 369], [386, 537]], 'tache': [[138, 116], [284, 528], [475, 253], [72, 271], [198, 443]]}\n"
     ]
    }
   ],
   "source": [
    "tk.mainloop()"
   ]
  }
 ],
 "metadata": {
  "kernelspec": {
   "display_name": "Python 3",
   "language": "python",
   "name": "python3"
  },
  "language_info": {
   "codemirror_mode": {
    "name": "ipython",
    "version": 3
   },
   "file_extension": ".py",
   "mimetype": "text/x-python",
   "name": "python",
   "nbconvert_exporter": "python",
   "pygments_lexer": "ipython3",
   "version": "3.12.0"
  }
 },
 "nbformat": 4,
 "nbformat_minor": 2
}
